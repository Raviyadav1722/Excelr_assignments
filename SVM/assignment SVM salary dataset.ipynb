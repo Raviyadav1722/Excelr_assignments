{
 "cells": [
  {
   "cell_type": "code",
   "execution_count": 1,
   "id": "37edc02e",
   "metadata": {
    "ExecuteTime": {
     "end_time": "2021-12-07T09:54:27.101556Z",
     "start_time": "2021-12-07T09:54:25.762822Z"
    }
   },
   "outputs": [],
   "source": [
    "import pandas as pd\n",
    "import numpy as np\n",
    "import matplotlib.pyplot as plt\n",
    "import warnings\n",
    "warnings.simplefilter('ignore')"
   ]
  },
  {
   "cell_type": "code",
   "execution_count": 7,
   "id": "0f17f582",
   "metadata": {
    "ExecuteTime": {
     "end_time": "2021-12-07T10:04:17.630034Z",
     "start_time": "2021-12-07T10:04:17.504746Z"
    }
   },
   "outputs": [],
   "source": [
    "salary_train = pd.read_csv(\"SalaryData_Train(1).csv\")\n",
    "salary_test = pd.read_csv(\"SalaryData_Train(1).csv\")\n",
    "string_columns=[\"age\",\"workclass\",\"education\",\"educationno\",\"maritalstatus\",\"occupation\",\"relationship\",\n",
    "                \"race\",\"sex\",\"capitalgain\",\"capitalloss\",\"hoursperweek\",\"native\",\"Salary\"]"
   ]
  },
  {
   "cell_type": "code",
   "execution_count": 4,
   "id": "5e2cf0e6",
   "metadata": {
    "ExecuteTime": {
     "end_time": "2021-12-07T10:02:57.822023Z",
     "start_time": "2021-12-07T10:02:57.751118Z"
    }
   },
   "outputs": [
    {
     "data": {
      "text/html": [
       "<div>\n",
       "<style scoped>\n",
       "    .dataframe tbody tr th:only-of-type {\n",
       "        vertical-align: middle;\n",
       "    }\n",
       "\n",
       "    .dataframe tbody tr th {\n",
       "        vertical-align: top;\n",
       "    }\n",
       "\n",
       "    .dataframe thead th {\n",
       "        text-align: right;\n",
       "    }\n",
       "</style>\n",
       "<table border=\"1\" class=\"dataframe\">\n",
       "  <thead>\n",
       "    <tr style=\"text-align: right;\">\n",
       "      <th></th>\n",
       "      <th>age</th>\n",
       "      <th>workclass</th>\n",
       "      <th>education</th>\n",
       "      <th>educationno</th>\n",
       "      <th>maritalstatus</th>\n",
       "      <th>occupation</th>\n",
       "      <th>relationship</th>\n",
       "      <th>race</th>\n",
       "      <th>sex</th>\n",
       "      <th>capitalgain</th>\n",
       "      <th>capitalloss</th>\n",
       "      <th>hoursperweek</th>\n",
       "      <th>native</th>\n",
       "      <th>Salary</th>\n",
       "    </tr>\n",
       "  </thead>\n",
       "  <tbody>\n",
       "    <tr>\n",
       "      <th>0</th>\n",
       "      <td>39</td>\n",
       "      <td>State-gov</td>\n",
       "      <td>Bachelors</td>\n",
       "      <td>13</td>\n",
       "      <td>Never-married</td>\n",
       "      <td>Adm-clerical</td>\n",
       "      <td>Not-in-family</td>\n",
       "      <td>White</td>\n",
       "      <td>Male</td>\n",
       "      <td>2174</td>\n",
       "      <td>0</td>\n",
       "      <td>40</td>\n",
       "      <td>United-States</td>\n",
       "      <td>&lt;=50K</td>\n",
       "    </tr>\n",
       "    <tr>\n",
       "      <th>1</th>\n",
       "      <td>50</td>\n",
       "      <td>Self-emp-not-inc</td>\n",
       "      <td>Bachelors</td>\n",
       "      <td>13</td>\n",
       "      <td>Married-civ-spouse</td>\n",
       "      <td>Exec-managerial</td>\n",
       "      <td>Husband</td>\n",
       "      <td>White</td>\n",
       "      <td>Male</td>\n",
       "      <td>0</td>\n",
       "      <td>0</td>\n",
       "      <td>13</td>\n",
       "      <td>United-States</td>\n",
       "      <td>&lt;=50K</td>\n",
       "    </tr>\n",
       "    <tr>\n",
       "      <th>2</th>\n",
       "      <td>38</td>\n",
       "      <td>Private</td>\n",
       "      <td>HS-grad</td>\n",
       "      <td>9</td>\n",
       "      <td>Divorced</td>\n",
       "      <td>Handlers-cleaners</td>\n",
       "      <td>Not-in-family</td>\n",
       "      <td>White</td>\n",
       "      <td>Male</td>\n",
       "      <td>0</td>\n",
       "      <td>0</td>\n",
       "      <td>40</td>\n",
       "      <td>United-States</td>\n",
       "      <td>&lt;=50K</td>\n",
       "    </tr>\n",
       "    <tr>\n",
       "      <th>3</th>\n",
       "      <td>53</td>\n",
       "      <td>Private</td>\n",
       "      <td>11th</td>\n",
       "      <td>7</td>\n",
       "      <td>Married-civ-spouse</td>\n",
       "      <td>Handlers-cleaners</td>\n",
       "      <td>Husband</td>\n",
       "      <td>Black</td>\n",
       "      <td>Male</td>\n",
       "      <td>0</td>\n",
       "      <td>0</td>\n",
       "      <td>40</td>\n",
       "      <td>United-States</td>\n",
       "      <td>&lt;=50K</td>\n",
       "    </tr>\n",
       "    <tr>\n",
       "      <th>4</th>\n",
       "      <td>28</td>\n",
       "      <td>Private</td>\n",
       "      <td>Bachelors</td>\n",
       "      <td>13</td>\n",
       "      <td>Married-civ-spouse</td>\n",
       "      <td>Prof-specialty</td>\n",
       "      <td>Wife</td>\n",
       "      <td>Black</td>\n",
       "      <td>Female</td>\n",
       "      <td>0</td>\n",
       "      <td>0</td>\n",
       "      <td>40</td>\n",
       "      <td>Cuba</td>\n",
       "      <td>&lt;=50K</td>\n",
       "    </tr>\n",
       "  </tbody>\n",
       "</table>\n",
       "</div>"
      ],
      "text/plain": [
       "   age          workclass   education  educationno        maritalstatus  \\\n",
       "0   39          State-gov   Bachelors           13        Never-married   \n",
       "1   50   Self-emp-not-inc   Bachelors           13   Married-civ-spouse   \n",
       "2   38            Private     HS-grad            9             Divorced   \n",
       "3   53            Private        11th            7   Married-civ-spouse   \n",
       "4   28            Private   Bachelors           13   Married-civ-spouse   \n",
       "\n",
       "           occupation    relationship    race      sex  capitalgain  \\\n",
       "0        Adm-clerical   Not-in-family   White     Male         2174   \n",
       "1     Exec-managerial         Husband   White     Male            0   \n",
       "2   Handlers-cleaners   Not-in-family   White     Male            0   \n",
       "3   Handlers-cleaners         Husband   Black     Male            0   \n",
       "4      Prof-specialty            Wife   Black   Female            0   \n",
       "\n",
       "   capitalloss  hoursperweek          native  Salary  \n",
       "0            0            40   United-States   <=50K  \n",
       "1            0            13   United-States   <=50K  \n",
       "2            0            40   United-States   <=50K  \n",
       "3            0            40   United-States   <=50K  \n",
       "4            0            40            Cuba   <=50K  "
      ]
     },
     "execution_count": 4,
     "metadata": {},
     "output_type": "execute_result"
    }
   ],
   "source": [
    "salary_test.head()"
   ]
  },
  {
   "cell_type": "code",
   "execution_count": 8,
   "id": "093b35c0",
   "metadata": {
    "ExecuteTime": {
     "end_time": "2021-12-07T10:04:20.763870Z",
     "start_time": "2021-12-07T10:04:20.632193Z"
    }
   },
   "outputs": [],
   "source": [
    "from sklearn import preprocessing\n",
    "le = preprocessing.LabelEncoder()\n",
    "for i in string_columns:\n",
    "    salary_train[i] = le.fit_transform(salary_train[i])\n",
    "    salary_test[i] = le.fit_transform(salary_test[i])\n",
    "\n",
    "colnames = salary_train.columns"
   ]
  },
  {
   "cell_type": "code",
   "execution_count": 9,
   "id": "2e874eb8",
   "metadata": {
    "ExecuteTime": {
     "end_time": "2021-12-07T10:06:03.911988Z",
     "start_time": "2021-12-07T10:06:03.882661Z"
    }
   },
   "outputs": [
    {
     "data": {
      "text/html": [
       "<div>\n",
       "<style scoped>\n",
       "    .dataframe tbody tr th:only-of-type {\n",
       "        vertical-align: middle;\n",
       "    }\n",
       "\n",
       "    .dataframe tbody tr th {\n",
       "        vertical-align: top;\n",
       "    }\n",
       "\n",
       "    .dataframe thead th {\n",
       "        text-align: right;\n",
       "    }\n",
       "</style>\n",
       "<table border=\"1\" class=\"dataframe\">\n",
       "  <thead>\n",
       "    <tr style=\"text-align: right;\">\n",
       "      <th></th>\n",
       "      <th>age</th>\n",
       "      <th>workclass</th>\n",
       "      <th>education</th>\n",
       "      <th>educationno</th>\n",
       "      <th>maritalstatus</th>\n",
       "      <th>occupation</th>\n",
       "      <th>relationship</th>\n",
       "      <th>race</th>\n",
       "      <th>sex</th>\n",
       "      <th>capitalgain</th>\n",
       "      <th>capitalloss</th>\n",
       "      <th>hoursperweek</th>\n",
       "      <th>native</th>\n",
       "      <th>Salary</th>\n",
       "    </tr>\n",
       "  </thead>\n",
       "  <tbody>\n",
       "    <tr>\n",
       "      <th>0</th>\n",
       "      <td>22</td>\n",
       "      <td>5</td>\n",
       "      <td>9</td>\n",
       "      <td>12</td>\n",
       "      <td>4</td>\n",
       "      <td>0</td>\n",
       "      <td>1</td>\n",
       "      <td>4</td>\n",
       "      <td>1</td>\n",
       "      <td>24</td>\n",
       "      <td>0</td>\n",
       "      <td>39</td>\n",
       "      <td>37</td>\n",
       "      <td>0</td>\n",
       "    </tr>\n",
       "    <tr>\n",
       "      <th>1</th>\n",
       "      <td>33</td>\n",
       "      <td>4</td>\n",
       "      <td>9</td>\n",
       "      <td>12</td>\n",
       "      <td>2</td>\n",
       "      <td>3</td>\n",
       "      <td>0</td>\n",
       "      <td>4</td>\n",
       "      <td>1</td>\n",
       "      <td>0</td>\n",
       "      <td>0</td>\n",
       "      <td>12</td>\n",
       "      <td>37</td>\n",
       "      <td>0</td>\n",
       "    </tr>\n",
       "    <tr>\n",
       "      <th>2</th>\n",
       "      <td>21</td>\n",
       "      <td>2</td>\n",
       "      <td>11</td>\n",
       "      <td>8</td>\n",
       "      <td>0</td>\n",
       "      <td>5</td>\n",
       "      <td>1</td>\n",
       "      <td>4</td>\n",
       "      <td>1</td>\n",
       "      <td>0</td>\n",
       "      <td>0</td>\n",
       "      <td>39</td>\n",
       "      <td>37</td>\n",
       "      <td>0</td>\n",
       "    </tr>\n",
       "    <tr>\n",
       "      <th>3</th>\n",
       "      <td>36</td>\n",
       "      <td>2</td>\n",
       "      <td>1</td>\n",
       "      <td>6</td>\n",
       "      <td>2</td>\n",
       "      <td>5</td>\n",
       "      <td>0</td>\n",
       "      <td>2</td>\n",
       "      <td>1</td>\n",
       "      <td>0</td>\n",
       "      <td>0</td>\n",
       "      <td>39</td>\n",
       "      <td>37</td>\n",
       "      <td>0</td>\n",
       "    </tr>\n",
       "    <tr>\n",
       "      <th>4</th>\n",
       "      <td>11</td>\n",
       "      <td>2</td>\n",
       "      <td>9</td>\n",
       "      <td>12</td>\n",
       "      <td>2</td>\n",
       "      <td>9</td>\n",
       "      <td>5</td>\n",
       "      <td>2</td>\n",
       "      <td>0</td>\n",
       "      <td>0</td>\n",
       "      <td>0</td>\n",
       "      <td>39</td>\n",
       "      <td>4</td>\n",
       "      <td>0</td>\n",
       "    </tr>\n",
       "  </tbody>\n",
       "</table>\n",
       "</div>"
      ],
      "text/plain": [
       "   age  workclass  education  educationno  maritalstatus  occupation  \\\n",
       "0   22          5          9           12              4           0   \n",
       "1   33          4          9           12              2           3   \n",
       "2   21          2         11            8              0           5   \n",
       "3   36          2          1            6              2           5   \n",
       "4   11          2          9           12              2           9   \n",
       "\n",
       "   relationship  race  sex  capitalgain  capitalloss  hoursperweek  native  \\\n",
       "0             1     4    1           24            0            39      37   \n",
       "1             0     4    1            0            0            12      37   \n",
       "2             1     4    1            0            0            39      37   \n",
       "3             0     2    1            0            0            39      37   \n",
       "4             5     2    0            0            0            39       4   \n",
       "\n",
       "   Salary  \n",
       "0       0  \n",
       "1       0  \n",
       "2       0  \n",
       "3       0  \n",
       "4       0  "
      ]
     },
     "execution_count": 9,
     "metadata": {},
     "output_type": "execute_result"
    }
   ],
   "source": [
    "salary_test.head()"
   ]
  },
  {
   "cell_type": "code",
   "execution_count": 11,
   "id": "e0093968",
   "metadata": {
    "ExecuteTime": {
     "end_time": "2021-12-07T10:09:15.319827Z",
     "start_time": "2021-12-07T10:09:15.295166Z"
    }
   },
   "outputs": [
    {
     "name": "stdout",
     "output_type": "stream",
     "text": [
      "<class 'pandas.core.frame.DataFrame'>\n",
      "RangeIndex: 30161 entries, 0 to 30160\n",
      "Data columns (total 14 columns):\n",
      " #   Column         Non-Null Count  Dtype\n",
      "---  ------         --------------  -----\n",
      " 0   age            30161 non-null  int64\n",
      " 1   workclass      30161 non-null  int32\n",
      " 2   education      30161 non-null  int32\n",
      " 3   educationno    30161 non-null  int64\n",
      " 4   maritalstatus  30161 non-null  int32\n",
      " 5   occupation     30161 non-null  int32\n",
      " 6   relationship   30161 non-null  int32\n",
      " 7   race           30161 non-null  int32\n",
      " 8   sex            30161 non-null  int32\n",
      " 9   capitalgain    30161 non-null  int64\n",
      " 10  capitalloss    30161 non-null  int64\n",
      " 11  hoursperweek   30161 non-null  int64\n",
      " 12  native         30161 non-null  int32\n",
      " 13  Salary         30161 non-null  int32\n",
      "dtypes: int32(9), int64(5)\n",
      "memory usage: 2.2 MB\n"
     ]
    }
   ],
   "source": [
    "salary_test.info()"
   ]
  },
  {
   "cell_type": "code",
   "execution_count": 10,
   "id": "c47ec207",
   "metadata": {
    "ExecuteTime": {
     "end_time": "2021-12-07T10:07:05.097869Z",
     "start_time": "2021-12-07T10:07:05.063347Z"
    }
   },
   "outputs": [
    {
     "data": {
      "text/html": [
       "<div>\n",
       "<style scoped>\n",
       "    .dataframe tbody tr th:only-of-type {\n",
       "        vertical-align: middle;\n",
       "    }\n",
       "\n",
       "    .dataframe tbody tr th {\n",
       "        vertical-align: top;\n",
       "    }\n",
       "\n",
       "    .dataframe thead th {\n",
       "        text-align: right;\n",
       "    }\n",
       "</style>\n",
       "<table border=\"1\" class=\"dataframe\">\n",
       "  <thead>\n",
       "    <tr style=\"text-align: right;\">\n",
       "      <th></th>\n",
       "      <th>age</th>\n",
       "      <th>workclass</th>\n",
       "      <th>education</th>\n",
       "      <th>educationno</th>\n",
       "      <th>maritalstatus</th>\n",
       "      <th>occupation</th>\n",
       "      <th>relationship</th>\n",
       "      <th>race</th>\n",
       "      <th>sex</th>\n",
       "      <th>capitalgain</th>\n",
       "      <th>capitalloss</th>\n",
       "      <th>hoursperweek</th>\n",
       "      <th>native</th>\n",
       "      <th>Salary</th>\n",
       "    </tr>\n",
       "  </thead>\n",
       "  <tbody>\n",
       "    <tr>\n",
       "      <th>0</th>\n",
       "      <td>22</td>\n",
       "      <td>5</td>\n",
       "      <td>9</td>\n",
       "      <td>12</td>\n",
       "      <td>4</td>\n",
       "      <td>0</td>\n",
       "      <td>1</td>\n",
       "      <td>4</td>\n",
       "      <td>1</td>\n",
       "      <td>24</td>\n",
       "      <td>0</td>\n",
       "      <td>39</td>\n",
       "      <td>37</td>\n",
       "      <td>0</td>\n",
       "    </tr>\n",
       "    <tr>\n",
       "      <th>1</th>\n",
       "      <td>33</td>\n",
       "      <td>4</td>\n",
       "      <td>9</td>\n",
       "      <td>12</td>\n",
       "      <td>2</td>\n",
       "      <td>3</td>\n",
       "      <td>0</td>\n",
       "      <td>4</td>\n",
       "      <td>1</td>\n",
       "      <td>0</td>\n",
       "      <td>0</td>\n",
       "      <td>12</td>\n",
       "      <td>37</td>\n",
       "      <td>0</td>\n",
       "    </tr>\n",
       "    <tr>\n",
       "      <th>2</th>\n",
       "      <td>21</td>\n",
       "      <td>2</td>\n",
       "      <td>11</td>\n",
       "      <td>8</td>\n",
       "      <td>0</td>\n",
       "      <td>5</td>\n",
       "      <td>1</td>\n",
       "      <td>4</td>\n",
       "      <td>1</td>\n",
       "      <td>0</td>\n",
       "      <td>0</td>\n",
       "      <td>39</td>\n",
       "      <td>37</td>\n",
       "      <td>0</td>\n",
       "    </tr>\n",
       "    <tr>\n",
       "      <th>3</th>\n",
       "      <td>36</td>\n",
       "      <td>2</td>\n",
       "      <td>1</td>\n",
       "      <td>6</td>\n",
       "      <td>2</td>\n",
       "      <td>5</td>\n",
       "      <td>0</td>\n",
       "      <td>2</td>\n",
       "      <td>1</td>\n",
       "      <td>0</td>\n",
       "      <td>0</td>\n",
       "      <td>39</td>\n",
       "      <td>37</td>\n",
       "      <td>0</td>\n",
       "    </tr>\n",
       "    <tr>\n",
       "      <th>4</th>\n",
       "      <td>11</td>\n",
       "      <td>2</td>\n",
       "      <td>9</td>\n",
       "      <td>12</td>\n",
       "      <td>2</td>\n",
       "      <td>9</td>\n",
       "      <td>5</td>\n",
       "      <td>2</td>\n",
       "      <td>0</td>\n",
       "      <td>0</td>\n",
       "      <td>0</td>\n",
       "      <td>39</td>\n",
       "      <td>4</td>\n",
       "      <td>0</td>\n",
       "    </tr>\n",
       "  </tbody>\n",
       "</table>\n",
       "</div>"
      ],
      "text/plain": [
       "   age  workclass  education  educationno  maritalstatus  occupation  \\\n",
       "0   22          5          9           12              4           0   \n",
       "1   33          4          9           12              2           3   \n",
       "2   21          2         11            8              0           5   \n",
       "3   36          2          1            6              2           5   \n",
       "4   11          2          9           12              2           9   \n",
       "\n",
       "   relationship  race  sex  capitalgain  capitalloss  hoursperweek  native  \\\n",
       "0             1     4    1           24            0            39      37   \n",
       "1             0     4    1            0            0            12      37   \n",
       "2             1     4    1            0            0            39      37   \n",
       "3             0     2    1            0            0            39      37   \n",
       "4             5     2    0            0            0            39       4   \n",
       "\n",
       "   Salary  \n",
       "0       0  \n",
       "1       0  \n",
       "2       0  \n",
       "3       0  \n",
       "4       0  "
      ]
     },
     "execution_count": 10,
     "metadata": {},
     "output_type": "execute_result"
    }
   ],
   "source": [
    "salary_train.head()"
   ]
  },
  {
   "cell_type": "code",
   "execution_count": 12,
   "id": "283edef3",
   "metadata": {
    "ExecuteTime": {
     "end_time": "2021-12-07T10:09:37.085406Z",
     "start_time": "2021-12-07T10:09:37.059761Z"
    }
   },
   "outputs": [
    {
     "name": "stdout",
     "output_type": "stream",
     "text": [
      "<class 'pandas.core.frame.DataFrame'>\n",
      "RangeIndex: 30161 entries, 0 to 30160\n",
      "Data columns (total 14 columns):\n",
      " #   Column         Non-Null Count  Dtype\n",
      "---  ------         --------------  -----\n",
      " 0   age            30161 non-null  int64\n",
      " 1   workclass      30161 non-null  int32\n",
      " 2   education      30161 non-null  int32\n",
      " 3   educationno    30161 non-null  int64\n",
      " 4   maritalstatus  30161 non-null  int32\n",
      " 5   occupation     30161 non-null  int32\n",
      " 6   relationship   30161 non-null  int32\n",
      " 7   race           30161 non-null  int32\n",
      " 8   sex            30161 non-null  int32\n",
      " 9   capitalgain    30161 non-null  int64\n",
      " 10  capitalloss    30161 non-null  int64\n",
      " 11  hoursperweek   30161 non-null  int64\n",
      " 12  native         30161 non-null  int32\n",
      " 13  Salary         30161 non-null  int32\n",
      "dtypes: int32(9), int64(5)\n",
      "memory usage: 2.2 MB\n"
     ]
    }
   ],
   "source": [
    "salary_train.info()"
   ]
  },
  {
   "cell_type": "code",
   "execution_count": 13,
   "id": "85c89d0f",
   "metadata": {
    "ExecuteTime": {
     "end_time": "2021-12-07T10:10:57.954166Z",
     "start_time": "2021-12-07T10:10:57.944287Z"
    }
   },
   "outputs": [],
   "source": [
    "trainX = salary_train[colnames[0:13]]\n",
    "trainY = salary_train[colnames[13]]\n",
    "testX  = salary_test[colnames[0:13]]\n",
    "testY  = salary_test[colnames[13]]"
   ]
  },
  {
   "cell_type": "code",
   "execution_count": 14,
   "id": "37d9cae9",
   "metadata": {
    "ExecuteTime": {
     "end_time": "2021-12-07T10:16:50.305301Z",
     "start_time": "2021-12-07T10:12:21.141504Z"
    }
   },
   "outputs": [
    {
     "data": {
      "text/plain": [
       "0.8052120287788866"
      ]
     },
     "execution_count": 14,
     "metadata": {},
     "output_type": "execute_result"
    }
   ],
   "source": [
    "from sklearn import svm\n",
    "from sklearn.svm import SVC\n",
    "model_linear = SVC(kernel = \"linear\")\n",
    "model_linear.fit(trainX,trainY)\n",
    "pred_test_linear = model_linear.predict(testX)\n",
    "\n",
    "np.mean(pred_test_linear==testY)"
   ]
  },
  {
   "cell_type": "code",
   "execution_count": 15,
   "id": "ea335b20",
   "metadata": {
    "ExecuteTime": {
     "end_time": "2021-12-07T10:17:51.728361Z",
     "start_time": "2021-12-07T10:17:25.935940Z"
    }
   },
   "outputs": [
    {
     "data": {
      "text/plain": [
       "0.8227843904379828"
      ]
     },
     "execution_count": 15,
     "metadata": {},
     "output_type": "execute_result"
    }
   ],
   "source": [
    "model_poly = SVC(kernel = \"poly\")\n",
    "model_poly.fit(trainX,trainY)\n",
    "pred_test_poly = model_poly.predict(testX)\n",
    "np.mean(pred_test_poly==testY)"
   ]
  },
  {
   "cell_type": "code",
   "execution_count": 16,
   "id": "94b9cefd",
   "metadata": {
    "ExecuteTime": {
     "end_time": "2021-12-07T10:21:31.800436Z",
     "start_time": "2021-12-07T10:21:31.793684Z"
    }
   },
   "outputs": [],
   "source": [
    "from sklearn.metrics import classification_report,confusion_matrix"
   ]
  },
  {
   "cell_type": "code",
   "execution_count": 17,
   "id": "1c308ffc",
   "metadata": {
    "ExecuteTime": {
     "end_time": "2021-12-07T10:23:11.133011Z",
     "start_time": "2021-12-07T10:22:50.630028Z"
    }
   },
   "outputs": [
    {
     "data": {
      "text/plain": [
       "SVC()"
      ]
     },
     "execution_count": 17,
     "metadata": {},
     "output_type": "execute_result"
    }
   ],
   "source": [
    "model=SVC()\n",
    "model.fit(trainX,trainY)"
   ]
  },
  {
   "cell_type": "code",
   "execution_count": 19,
   "id": "dd1696a5",
   "metadata": {
    "ExecuteTime": {
     "end_time": "2021-12-07T10:25:47.772983Z",
     "start_time": "2021-12-07T10:25:13.109405Z"
    }
   },
   "outputs": [],
   "source": [
    "pred=model.predict(testX)"
   ]
  },
  {
   "cell_type": "code",
   "execution_count": 20,
   "id": "930b05d3",
   "metadata": {
    "ExecuteTime": {
     "end_time": "2021-12-07T10:26:22.957000Z",
     "start_time": "2021-12-07T10:26:22.812943Z"
    }
   },
   "outputs": [
    {
     "name": "stdout",
     "output_type": "stream",
     "text": [
      "[[22269  5229]\n",
      " [  384  2279]]\n",
      "              precision    recall  f1-score   support\n",
      "\n",
      "           0       0.98      0.81      0.89     27498\n",
      "           1       0.30      0.86      0.45      2663\n",
      "\n",
      "    accuracy                           0.81     30161\n",
      "   macro avg       0.64      0.83      0.67     30161\n",
      "weighted avg       0.92      0.81      0.85     30161\n",
      "\n"
     ]
    }
   ],
   "source": [
    "print(confusion_matrix(pred,testY))\n",
    "print(classification_report(pred,testY))"
   ]
  },
  {
   "cell_type": "code",
   "execution_count": 21,
   "id": "ff15047e",
   "metadata": {
    "ExecuteTime": {
     "end_time": "2021-12-07T10:26:44.389649Z",
     "start_time": "2021-12-07T10:26:44.379645Z"
    }
   },
   "outputs": [
    {
     "data": {
      "text/plain": [
       "81.38987434103643"
      ]
     },
     "execution_count": 21,
     "metadata": {},
     "output_type": "execute_result"
    }
   ],
   "source": [
    "np.mean(pred==testY)*100"
   ]
  }
 ],
 "metadata": {
  "kernelspec": {
   "display_name": "Python 3",
   "language": "python",
   "name": "python3"
  },
  "language_info": {
   "codemirror_mode": {
    "name": "ipython",
    "version": 3
   },
   "file_extension": ".py",
   "mimetype": "text/x-python",
   "name": "python",
   "nbconvert_exporter": "python",
   "pygments_lexer": "ipython3",
   "version": "3.8.8"
  }
 },
 "nbformat": 4,
 "nbformat_minor": 5
}
